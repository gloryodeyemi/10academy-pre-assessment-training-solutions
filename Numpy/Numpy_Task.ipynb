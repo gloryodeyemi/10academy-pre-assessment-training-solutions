{
 "cells": [
  {
   "cell_type": "markdown",
   "metadata": {},
   "source": [
    "# Numpy Tasks"
   ]
  },
  {
   "cell_type": "markdown",
   "metadata": {},
   "source": [
    "## Task_1"
   ]
  },
  {
   "cell_type": "markdown",
   "metadata": {},
   "source": [
    "#### Question 1. Create a numpy array with 6X5 2D array from 10 upwards"
   ]
  },
  {
   "cell_type": "code",
   "execution_count": 9,
   "metadata": {},
   "outputs": [
    {
     "name": "stdout",
     "output_type": "stream",
     "text": [
      "[[10 11 12 13 14]\n",
      " [15 16 17 18 19]\n",
      " [20 21 22 23 24]\n",
      " [25 26 27 28 29]\n",
      " [30 31 32 33 34]\n",
      " [35 36 37 38 39]]\n"
     ]
    }
   ],
   "source": [
    "import numpy as np\n",
    "\n",
    "my_array = np.arange(10,40)\n",
    "my_array.shape = (6,5)\n",
    "print(my_array)"
   ]
  },
  {
   "cell_type": "markdown",
   "metadata": {},
   "source": [
    "#### Question 2. From question 1, reshape the numpy array to any shape of your choice and return the max value from each column."
   ]
  },
  {
   "cell_type": "code",
   "execution_count": 10,
   "metadata": {},
   "outputs": [
    {
     "name": "stdout",
     "output_type": "stream",
     "text": [
      "[[10 11 12 13 14 15 16 17 18 19]\n",
      " [20 21 22 23 24 25 26 27 28 29]\n",
      " [30 31 32 33 34 35 36 37 38 39]]\n",
      "Maximum value = [30 31 32 33 34 35 36 37 38 39]\n"
     ]
    }
   ],
   "source": [
    "#reshaping the array\n",
    "new_array = my_array.reshape(3, 10)\n",
    "print(new_array)\n",
    "\n",
    "#displaying the max values from each column\n",
    "print(f\"Maximum value = {new_array.max(axis=0)}\")"
   ]
  },
  {
   "cell_type": "markdown",
   "metadata": {},
   "source": [
    "#### Question 3. Create a numpy array A with np.ones with a shape of (3,4). Create another array using the np.arange with a shape of (3,4). "
   ]
  },
  {
   "cell_type": "code",
   "execution_count": 22,
   "metadata": {},
   "outputs": [
    {
     "name": "stdout",
     "output_type": "stream",
     "text": [
      "Array A = \n",
      " [[1. 1. 1. 1.]\n",
      " [1. 1. 1. 1.]\n",
      " [1. 1. 1. 1.]] \n",
      "\n",
      "Array B = \n",
      " [[ 2  4  6  8]\n",
      " [10 12 14 16]\n",
      " [18 20 22 24]]\n"
     ]
    }
   ],
   "source": [
    "#creating numpy array with np.ones\n",
    "A = np.ones((3,4))\n",
    "print(\"Array A = \\n\",A, \"\\n\")\n",
    "\n",
    "#creating numpy array with np.arange\n",
    "B = np.arange(2, 25, step=2).reshape(3,4)\n",
    "print(\"Array B = \\n\",B)"
   ]
  },
  {
   "cell_type": "markdown",
   "metadata": {},
   "source": [
    "#### Question 4. Perform arithmetic operations (+,-,*,/) on the two arrays from question 3."
   ]
  },
  {
   "cell_type": "code",
   "execution_count": 25,
   "metadata": {},
   "outputs": [
    {
     "name": "stdout",
     "output_type": "stream",
     "text": [
      "Addition:\n",
      " [[ 3.  5.  7.  9.]\n",
      " [11. 13. 15. 17.]\n",
      " [19. 21. 23. 25.]] \n",
      "\n",
      "Subtraction:\n",
      " [[ -1.  -3.  -5.  -7.]\n",
      " [ -9. -11. -13. -15.]\n",
      " [-17. -19. -21. -23.]]\n",
      "\n",
      "Multiplication:\n",
      " = [[ 2.  4.  6.  8.]\n",
      " [10. 12. 14. 16.]\n",
      " [18. 20. 22. 24.]]\n",
      "\n",
      "Division:\n",
      " = [[0.5        0.25       0.16666667 0.125     ]\n",
      " [0.1        0.08333333 0.07142857 0.0625    ]\n",
      " [0.05555556 0.05       0.04545455 0.04166667]]\n"
     ]
    }
   ],
   "source": [
    "#Arithmetic operations on array\n",
    "add = A + B\n",
    "sub = A - B\n",
    "mult = A * B\n",
    "div = A / B\n",
    "\n",
    "print(f\"Addition:\\n {add} \\n\")\n",
    "print(f\"Subtraction:\\n {sub}\\n\")\n",
    "print(f\"Multiplication:\\n = {mult}\\n\")\n",
    "print(f\"Division:\\n = {div}\")"
   ]
  },
  {
   "cell_type": "markdown",
   "metadata": {},
   "source": [
    "#### Question 5. From question 4, transpose the results of each arithmetic operation."
   ]
  },
  {
   "cell_type": "code",
   "execution_count": 28,
   "metadata": {},
   "outputs": [
    {
     "name": "stdout",
     "output_type": "stream",
     "text": [
      "Addition Transpose: \n",
      " [[ 3. 11. 19.]\n",
      " [ 5. 13. 21.]\n",
      " [ 7. 15. 23.]\n",
      " [ 9. 17. 25.]] \n",
      "\n",
      "Subtraction Transpose: \n",
      " [[ -1.  -9. -17.]\n",
      " [ -3. -11. -19.]\n",
      " [ -5. -13. -21.]\n",
      " [ -7. -15. -23.]] \n",
      "\n",
      "Multiplication Transpose: \n",
      " [[ 2. 10. 18.]\n",
      " [ 4. 12. 20.]\n",
      " [ 6. 14. 22.]\n",
      " [ 8. 16. 24.]] \n",
      "\n",
      "Division Transpose: \n",
      " [[0.5        0.1        0.05555556]\n",
      " [0.25       0.08333333 0.05      ]\n",
      " [0.16666667 0.07142857 0.04545455]\n",
      " [0.125      0.0625     0.04166667]]\n"
     ]
    }
   ],
   "source": [
    "print(\"Addition Transpose: \\n\", np.transpose(add), \"\\n\")\n",
    "print(\"Subtraction Transpose: \\n\", np.transpose(sub), \"\\n\")\n",
    "print(\"Multiplication Transpose: \\n\", np.transpose(mult), \"\\n\")\n",
    "print(\"Division Transpose: \\n\", np.transpose(div))"
   ]
  }
 ],
 "metadata": {
  "kernelspec": {
   "display_name": "Python 3",
   "language": "python",
   "name": "python3"
  },
  "language_info": {
   "codemirror_mode": {
    "name": "ipython",
    "version": 3
   },
   "file_extension": ".py",
   "mimetype": "text/x-python",
   "name": "python",
   "nbconvert_exporter": "python",
   "pygments_lexer": "ipython3",
   "version": "3.6.5"
  }
 },
 "nbformat": 4,
 "nbformat_minor": 4
}
